{
 "cells": [
  {
   "cell_type": "code",
   "execution_count": 1,
   "id": "957497f2",
   "metadata": {},
   "outputs": [
    {
     "name": "stdout",
     "output_type": "stream",
     "text": [
      "20\n"
     ]
    }
   ],
   "source": [
    "a=20\n",
    "#a=variable\n",
    "#=assignment operators\n",
    "#20=data\n",
    "print(a)"
   ]
  },
  {
   "cell_type": "code",
   "execution_count": 3,
   "id": "ef40ed16",
   "metadata": {},
   "outputs": [
    {
     "data": {
      "text/plain": [
       "20"
      ]
     },
     "execution_count": 3,
     "metadata": {},
     "output_type": "execute_result"
    }
   ],
   "source": [
    "a"
   ]
  },
  {
   "cell_type": "code",
   "execution_count": 4,
   "id": "d77439b9",
   "metadata": {},
   "outputs": [
    {
     "name": "stdout",
     "output_type": "stream",
     "text": [
      "20\n"
     ]
    }
   ],
   "source": [
    "print(a)"
   ]
  },
  {
   "cell_type": "code",
   "execution_count": 5,
   "id": "feef3912",
   "metadata": {},
   "outputs": [],
   "source": [
    "a=\"Mandar\""
   ]
  },
  {
   "cell_type": "code",
   "execution_count": 6,
   "id": "bb02ec29",
   "metadata": {},
   "outputs": [
    {
     "data": {
      "text/plain": [
       "'Mandar'"
      ]
     },
     "execution_count": 6,
     "metadata": {},
     "output_type": "execute_result"
    }
   ],
   "source": [
    "a"
   ]
  },
  {
   "cell_type": "code",
   "execution_count": 7,
   "id": "f2e27725",
   "metadata": {},
   "outputs": [],
   "source": [
    "a=\"Mandar\"\n",
    "b=\"Satpute\""
   ]
  },
  {
   "cell_type": "code",
   "execution_count": 8,
   "id": "68c77f85",
   "metadata": {},
   "outputs": [
    {
     "data": {
      "text/plain": [
       "('Mandar', 'Satpute')"
      ]
     },
     "execution_count": 8,
     "metadata": {},
     "output_type": "execute_result"
    }
   ],
   "source": [
    "a,b"
   ]
  },
  {
   "cell_type": "code",
   "execution_count": 9,
   "id": "a2b64815",
   "metadata": {},
   "outputs": [],
   "source": [
    "c=a+b"
   ]
  },
  {
   "cell_type": "code",
   "execution_count": 10,
   "id": "d6cfc25d",
   "metadata": {},
   "outputs": [
    {
     "data": {
      "text/plain": [
       "'MandarSatpute'"
      ]
     },
     "execution_count": 10,
     "metadata": {},
     "output_type": "execute_result"
    }
   ],
   "source": [
    "c"
   ]
  },
  {
   "cell_type": "code",
   "execution_count": 11,
   "id": "94f00e6f",
   "metadata": {},
   "outputs": [],
   "source": [
    "c=a+' '+b"
   ]
  },
  {
   "cell_type": "code",
   "execution_count": 12,
   "id": "8bf86270",
   "metadata": {},
   "outputs": [
    {
     "data": {
      "text/plain": [
       "'Mandar Satpute'"
      ]
     },
     "execution_count": 12,
     "metadata": {},
     "output_type": "execute_result"
    }
   ],
   "source": [
    "c"
   ]
  },
  {
   "cell_type": "code",
   "execution_count": 14,
   "id": "92b4bf65",
   "metadata": {},
   "outputs": [
    {
     "name": "stdout",
     "output_type": "stream",
     "text": [
      "Mandar\n",
      "Satpute\n"
     ]
    }
   ],
   "source": [
    "print(\"Mandar\\nSatpute\")"
   ]
  },
  {
   "cell_type": "code",
   "execution_count": 15,
   "id": "75972414",
   "metadata": {},
   "outputs": [
    {
     "name": "stdout",
     "output_type": "stream",
     "text": [
      "Mandar\tSatpute\n"
     ]
    }
   ],
   "source": [
    "print(\"Mandar\\tSatpute\")"
   ]
  },
  {
   "cell_type": "code",
   "execution_count": 17,
   "id": "08e2c57f",
   "metadata": {},
   "outputs": [
    {
     "data": {
      "text/plain": [
       "int"
      ]
     },
     "execution_count": 17,
     "metadata": {},
     "output_type": "execute_result"
    }
   ],
   "source": [
    "a=20\n",
    "type(a)"
   ]
  },
  {
   "cell_type": "code",
   "execution_count": 18,
   "id": "c138d288",
   "metadata": {},
   "outputs": [
    {
     "data": {
      "text/plain": [
       "str"
      ]
     },
     "execution_count": 18,
     "metadata": {},
     "output_type": "execute_result"
    }
   ],
   "source": [
    "a=\"Mandar\"\n",
    "type(a)"
   ]
  },
  {
   "cell_type": "code",
   "execution_count": null,
   "id": "bf16e005",
   "metadata": {},
   "outputs": [],
   "source": []
  }
 ],
 "metadata": {
  "kernelspec": {
   "display_name": "Python 3 (ipykernel)",
   "language": "python",
   "name": "python3"
  },
  "language_info": {
   "codemirror_mode": {
    "name": "ipython",
    "version": 3
   },
   "file_extension": ".py",
   "mimetype": "text/x-python",
   "name": "python",
   "nbconvert_exporter": "python",
   "pygments_lexer": "ipython3",
   "version": "3.11.3"
  }
 },
 "nbformat": 4,
 "nbformat_minor": 5
}
